{
  "nbformat": 4,
  "nbformat_minor": 0,
  "metadata": {
    "colab": {
      "name": "Letsupgrade_Python_B7_Day4_Assignment.ipynb",
      "provenance": []
    },
    "kernelspec": {
      "name": "python3",
      "display_name": "Python 3"
    }
  },
  "cells": [
    {
      "cell_type": "code",
      "metadata": {
        "id": "M-5Yq3I6vyNW",
        "colab_type": "code",
        "colab": {
          "base_uri": "https://localhost:8080/",
          "height": 34
        },
        "outputId": "1ab65dbc-34b6-4b9d-f000-3699c1ba5536"
      },
      "source": [
        "for num in range (1042000,702648265):\n",
        "  sum = 0\n",
        "  temp = num\n",
        "  while (temp > 0):\n",
        "   digit = temp % 10\n",
        "   sum = sum + digit*digit*digit\n",
        "   temp = int(temp/10)\n",
        "  if (num == sum):\n",
        "    print(\"The first armstrong number is \", num)\n",
        "    break\n"
      ],
      "execution_count": 5,
      "outputs": [
        {
          "output_type": "stream",
          "text": [
            "The first armstrong number is  407\n"
          ],
          "name": "stdout"
        }
      ]
    }
  ]
}